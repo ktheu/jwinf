{
 "cells": [
  {
   "cell_type": "markdown",
   "id": "d6eb2908-dc37-4b29-88d7-c034c6d0815a",
   "metadata": {},
   "source": [
    "#### Einlesen von Daten\n"
   ]
  },
  {
   "cell_type": "code",
   "execution_count": 1,
   "id": "237f8ca0-d7a7-4be9-a039-e57dae2374b1",
   "metadata": {},
   "outputs": [
    {
     "data": {
      "text/plain": [
       "'C:\\\\Users\\\\khthe\\\\OneDrive\\\\2_Projekte\\\\jwinf\\\\uebungen'"
      ]
     },
     "execution_count": 1,
     "metadata": {},
     "output_type": "execute_result"
    }
   ],
   "source": [
    "import os\n",
    "os.getcwd()       "
   ]
  },
  {
   "cell_type": "code",
   "execution_count": null,
   "id": "91269078-a9eb-42f3-8b9c-bb72904c3d59",
   "metadata": {},
   "outputs": [],
   "source": [
    "%%writefile  \n",
    "4\n",
    "10\n",
    "20\n",
    "40\n",
    "90"
   ]
  },
  {
   "cell_type": "code",
   "execution_count": null,
   "id": "801ffa62-08f2-4685-9287-765aa12b8470",
   "metadata": {},
   "outputs": [],
   "source": [
    "!mkdir beispieldaten     # ein neues directory beispieldaten"
   ]
  },
  {
   "cell_type": "code",
   "execution_count": 9,
   "id": "fa5dc3bd-e60c-42a0-a3ac-d6f8d2150cfb",
   "metadata": {},
   "outputs": [
    {
     "name": "stdout",
     "output_type": "stream",
     "text": [
      "Writing beispieldaten/daten1.txt\n"
     ]
    }
   ],
   "source": [
    "%%writefile  beispieldaten/daten1.txt\n",
    "4\n",
    "10\n",
    "20\n",
    "40\n",
    "90"
   ]
  },
  {
   "cell_type": "code",
   "execution_count": null,
   "id": "bd78f918-3a0d-4276-ae09-6c6de51f813d",
   "metadata": {},
   "outputs": [],
   "source": []
  }
 ],
 "metadata": {
  "kernelspec": {
   "display_name": "Python 3",
   "language": "python",
   "name": "python3"
  },
  "language_info": {
   "codemirror_mode": {
    "name": "ipython",
    "version": 3
   },
   "file_extension": ".py",
   "mimetype": "text/x-python",
   "name": "python",
   "nbconvert_exporter": "python",
   "pygments_lexer": "ipython3",
   "version": "3.8.8"
  }
 },
 "nbformat": 4,
 "nbformat_minor": 5
}
