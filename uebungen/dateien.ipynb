{
 "cells": [
  {
   "cell_type": "markdown",
   "id": "d6eb2908-dc37-4b29-88d7-c034c6d0815a",
   "metadata": {},
   "source": [
    "## Einlesen von Daten\n",
    "\n",
    "Im Ordner *beispieldaten* sind Unterordner mit den Daten\n"
   ]
  },
  {
   "cell_type": "code",
   "execution_count": 5,
   "id": "ffdbd67c-eccf-49cb-b6a3-3057821e0e9d",
   "metadata": {},
   "outputs": [
    {
     "data": {
      "text/plain": [
       "'C:\\\\Users\\\\khthe\\\\OneDrive\\\\2_Projekte\\\\jwinf\\\\uebungen'"
      ]
     },
     "execution_count": 5,
     "metadata": {},
     "output_type": "execute_result"
    }
   ],
   "source": [
    "import os\n",
    "os.getcwd()                      # das aktuelle Arbeitsverzeichnis"
   ]
  },
  {
   "cell_type": "code",
   "execution_count": 6,
   "id": "237f8ca0-d7a7-4be9-a039-e57dae2374b1",
   "metadata": {},
   "outputs": [
    {
     "data": {
      "text/plain": [
       "['.ipynb_checkpoints', 'daten1.txt']"
      ]
     },
     "execution_count": 6,
     "metadata": {},
     "output_type": "execute_result"
    }
   ],
   "source": [
    "import os\n",
    "os.listdir('./beispieldaten')     "
   ]
  },
  {
   "cell_type": "markdown",
   "id": "079bbecf-54c6-4f68-8d72-92188b846b34",
   "metadata": {},
   "source": [
    "####  Den gesamten Inhalt einer Datei ausgeben"
   ]
  },
  {
   "cell_type": "code",
   "execution_count": 7,
   "id": "a5c52efd-13c2-465f-a239-286f475d6c13",
   "metadata": {},
   "outputs": [
    {
     "name": "stdout",
     "output_type": "stream",
     "text": [
      "4\n",
      "10\n",
      "20\n",
      "40\n",
      "90\n"
     ]
    }
   ],
   "source": [
    "f = open('./beispieldaten/daten1.txt')\n",
    "for zeile in f.readlines():\n",
    "    print(zeile,end='')       # Zeilenvorschub ist schon in den Daten \n",
    "f.close()\n",
    " "
   ]
  },
  {
   "cell_type": "markdown",
   "id": "ffe113e3-68fe-4872-8145-d188b9cf70ac",
   "metadata": {},
   "source": [
    "#### Zeilenweises Einlesen\n",
    "\n"
   ]
  },
  {
   "cell_type": "code",
   "execution_count": 43,
   "id": "efd8f14a-45bb-49ee-ad84-bcd5f86c46b1",
   "metadata": {},
   "outputs": [
    {
     "name": "stdout",
     "output_type": "stream",
     "text": [
      "Anzahl:  4\n",
      "[10, 20, 40, 90]\n"
     ]
    }
   ],
   "source": [
    "# In der ersten Zeile steht, wieviele Zahlen noch kommen\n",
    "\n",
    "f = open('./beispieldaten/daten1.txt')\n",
    "\n",
    "anzahl = int(f.readline())\n",
    " \n",
    "daten = []\n",
    "for i in range(anzahl):\n",
    "    daten.append(int(f.readline()))\n",
    "    \n",
    "f.close()\n",
    "\n",
    "print(\"Anzahl: \",anzahl)\n",
    "print(daten)\n",
    " "
   ]
  },
  {
   "cell_type": "markdown",
   "id": "6fe895f0-5c25-4472-8074-c5c9f7249a2d",
   "metadata": {},
   "source": [
    "#### Mehrere Informationen in einer Zeile"
   ]
  },
  {
   "cell_type": "code",
   "execution_count": 44,
   "id": "801ffa62-08f2-4685-9287-765aa12b8470",
   "metadata": {},
   "outputs": [
    {
     "name": "stdout",
     "output_type": "stream",
     "text": [
      "3 5\n",
      "rot\n",
      "gruen\n",
      "gelb\n",
      "10\n",
      "20\n",
      "15\n",
      "8 \n",
      "9"
     ]
    }
   ],
   "source": [
    "# In der ersten Zeile stehen 2 Zahlen: die Anzahl der Farben und die Anzahl der Zahlen\n",
    "\n",
    "f = open('./beispieldaten/daten2.txt')\n",
    "for zeile in f.readlines():\n",
    "    print(zeile,end='')       # Zeilenvorschub ist schon in den Daten \n",
    "f.close()"
   ]
  },
  {
   "cell_type": "code",
   "execution_count": 45,
   "id": "bd78f918-3a0d-4276-ae09-6c6de51f813d",
   "metadata": {},
   "outputs": [
    {
     "name": "stdout",
     "output_type": "stream",
     "text": [
      "Anzahl Farben:  3\n",
      "Anzahl Zahlen:  5\n",
      "['rot', 'gruen', 'gelb']\n",
      "[10, 20, 15, 8, 9]\n"
     ]
    }
   ],
   "source": [
    "f = open('./beispieldaten/daten2.txt')\n",
    "anzFarben, anzZahlen = [int(x) for x in f.readline().split()]\n",
    "\n",
    "farben = []\n",
    "zahlen = []\n",
    "for i in range(anzFarben):\n",
    "    farben.append(f.readline()[:-1])    # ohne den Zeilenvorschub\n",
    "    \n",
    "\n",
    "for i in range(anzZahlen):\n",
    "    zahlen.append(int(f.readline()))\n",
    "    \n",
    "f.close()\n",
    "print(\"Anzahl Farben: \",anzFarben)\n",
    "print(\"Anzahl Zahlen: \",anzZahlen)\n",
    "print(farben)\n",
    "print(zahlen)\n",
    " "
   ]
  },
  {
   "cell_type": "markdown",
   "id": "ea99125b-2707-4488-a10e-12f3df947036",
   "metadata": {},
   "source": [
    "#### Koordinaten einlesen"
   ]
  },
  {
   "cell_type": "code",
   "execution_count": 60,
   "id": "3f9571f6-3007-4701-9912-dc6fea678488",
   "metadata": {
    "tags": []
   },
   "outputs": [
    {
     "name": "stdout",
     "output_type": "stream",
     "text": [
      "4\n",
      "4 5\n",
      "3 8\n",
      "1 2\n",
      "3 -2"
     ]
    }
   ],
   "source": [
    "# In der ersten Zeile steht die Anzahl der einzulesenden Koordinaten\n",
    "\n",
    "f = open('./beispieldaten/daten3.txt')\n",
    "for zeile in f.readlines():\n",
    "    print(zeile,end='')       # Zeilenvorschub ist schon in den Daten \n",
    "f.close()"
   ]
  },
  {
   "cell_type": "code",
   "execution_count": 61,
   "id": "3514ec9f-e129-4106-97a6-946e7a63a3cb",
   "metadata": {},
   "outputs": [
    {
     "name": "stdout",
     "output_type": "stream",
     "text": [
      "Anzahl Koordinaten: 4\n",
      "[[4, 5], [3, 8], [1, 2]]\n"
     ]
    }
   ],
   "source": [
    "f = open('./beispieldaten/daten3.txt')\n",
    "anzahl = int(f.readline())\n",
    "daten = []\n",
    "\n",
    "for i in range(rows):\n",
    "    daten.append([int(x) for x in f.readline().split()])\n",
    "f.close()\n",
    "\n",
    "print(\"Anzahl Koordinaten:\", anzahl)\n",
    "print(daten)"
   ]
  },
  {
   "cell_type": "markdown",
   "id": "77e3bb55-7a9c-454d-be15-aa644a18ab93",
   "metadata": {},
   "source": [
    "#### Eine Matrix mit Zahlen"
   ]
  },
  {
   "cell_type": "code",
   "execution_count": 62,
   "id": "20a980bd-0bdb-4037-ac77-5f5f579ef99b",
   "metadata": {},
   "outputs": [
    {
     "name": "stdout",
     "output_type": "stream",
     "text": [
      "3 5\n",
      "1 0 1 3 1\n",
      "0 0 1 1 2\n",
      "2 1 1 2 1"
     ]
    }
   ],
   "source": [
    "# In der ersten Zeile stehen die Anzahl der Zeilen und die Anzahl der Spalten \n",
    "\n",
    "f = open('./beispieldaten/daten4.txt')\n",
    "for zeile in f.readlines():\n",
    "    print(zeile,end='')       # Zeilenvorschub ist schon in den Daten \n",
    "f.close()"
   ]
  },
  {
   "cell_type": "code",
   "execution_count": 63,
   "id": "00b82866-f5f4-49b5-9b1d-e82db23c7623",
   "metadata": {},
   "outputs": [
    {
     "name": "stdout",
     "output_type": "stream",
     "text": [
      "Anzahl Zeilen: 3\n",
      "Anzahl Spalten 5\n",
      "[[1, 0, 1, 3, 1], [0, 0, 1, 1, 2], [2, 1, 1, 2, 1]]\n"
     ]
    }
   ],
   "source": [
    "f = open('./beispieldaten/daten4.txt')\n",
    "rows, cols = [int(x) for x in f.readline().split()]\n",
    "\n",
    "grid = []\n",
    "for i in range(rows):\n",
    "    grid.append([int(x) for x in f.readline().split()])\n",
    "f.close()\n",
    "\n",
    "print(\"Anzahl Zeilen:\", rows)\n",
    "print(\"Anzahl Spalten\", cols)\n",
    "print(grid)"
   ]
  },
  {
   "cell_type": "code",
   "execution_count": 64,
   "id": "6a03d790-2bce-42c3-8526-4589497f89f1",
   "metadata": {},
   "outputs": [
    {
     "data": {
      "text/plain": [
       "3"
      ]
     },
     "execution_count": 64,
     "metadata": {},
     "output_type": "execute_result"
    }
   ],
   "source": [
    "# Das Element in der 1.Zeile und 4. Spalte\n",
    "grid[0][3]"
   ]
  },
  {
   "cell_type": "code",
   "execution_count": 65,
   "id": "8fb94b3d-6d0a-40f9-adc6-7c2c24e0c965",
   "metadata": {},
   "outputs": [
    {
     "name": "stdout",
     "output_type": "stream",
     "text": [
      "1\n",
      "0\n",
      "1\n",
      "3\n",
      "1\n"
     ]
    }
   ],
   "source": [
    "# Die Elemente in der 1.Zeile (=Index 0) durchlaufen:  \n",
    "for x in grid[0]:\n",
    "    print(x)"
   ]
  },
  {
   "cell_type": "code",
   "execution_count": 66,
   "id": "0bed771f-513c-4001-ac42-456615b4677d",
   "metadata": {},
   "outputs": [
    {
     "name": "stdout",
     "output_type": "stream",
     "text": [
      "3\n",
      "1\n",
      "2\n"
     ]
    }
   ],
   "source": [
    "# Die Elemente in der 4.Spalte (=Index 3) durchlaufen:  \n",
    "for k in range(len(grid)):\n",
    "    print(grid[k][3])\n"
   ]
  }
 ],
 "metadata": {
  "kernelspec": {
   "display_name": "Python 3",
   "language": "python",
   "name": "python3"
  },
  "language_info": {
   "codemirror_mode": {
    "name": "ipython",
    "version": 3
   },
   "file_extension": ".py",
   "mimetype": "text/x-python",
   "name": "python",
   "nbconvert_exporter": "python",
   "pygments_lexer": "ipython3",
   "version": "3.8.8"
  }
 },
 "nbformat": 4,
 "nbformat_minor": 5
}
