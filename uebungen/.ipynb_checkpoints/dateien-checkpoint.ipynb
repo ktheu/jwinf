{
 "cells": [
  {
   "cell_type": "markdown",
   "id": "d6eb2908-dc37-4b29-88d7-c034c6d0815a",
   "metadata": {},
   "source": [
    "## Einlesen von Daten\n",
    "\n",
    "Im Ordner *beispieldaten* sind Unterordner mit den Daten\n"
   ]
  },
  {
   "cell_type": "code",
   "execution_count": 5,
   "id": "ffdbd67c-eccf-49cb-b6a3-3057821e0e9d",
   "metadata": {},
   "outputs": [
    {
     "data": {
      "text/plain": [
       "'C:\\\\Users\\\\khthe\\\\OneDrive\\\\2_Projekte\\\\jwinf\\\\uebungen'"
      ]
     },
     "execution_count": 5,
     "metadata": {},
     "output_type": "execute_result"
    }
   ],
   "source": [
    "import os\n",
    "os.getcwd()                      # das aktuelle Arbeitsverzeichnis"
   ]
  },
  {
   "cell_type": "code",
   "execution_count": 6,
   "id": "237f8ca0-d7a7-4be9-a039-e57dae2374b1",
   "metadata": {},
   "outputs": [
    {
     "data": {
      "text/plain": [
       "['.ipynb_checkpoints', 'daten1.txt']"
      ]
     },
     "execution_count": 6,
     "metadata": {},
     "output_type": "execute_result"
    }
   ],
   "source": [
    "import os\n",
    "os.listdir('./beispieldaten')     "
   ]
  },
  {
   "cell_type": "markdown",
   "id": "079bbecf-54c6-4f68-8d72-92188b846b34",
   "metadata": {},
   "source": [
    "####  Den gesamten Inhalt einer Datei ausgeben"
   ]
  },
  {
   "cell_type": "code",
   "execution_count": 7,
   "id": "a5c52efd-13c2-465f-a239-286f475d6c13",
   "metadata": {},
   "outputs": [
    {
     "name": "stdout",
     "output_type": "stream",
     "text": [
      "4\n",
      "10\n",
      "20\n",
      "40\n",
      "90\n"
     ]
    }
   ],
   "source": [
    "f = open('./beispieldaten/daten1.txt')\n",
    "for zeile in f.readlines():\n",
    "    print(zeile,end='')       # Zeilenvorschub ist schon in den Daten \n",
    "f.close()\n",
    " "
   ]
  },
  {
   "cell_type": "markdown",
   "id": "ffe113e3-68fe-4872-8145-d188b9cf70ac",
   "metadata": {},
   "source": [
    "#### Zeilenweises Einlesen\n",
    "\n"
   ]
  },
  {
   "cell_type": "code",
   "execution_count": 43,
   "id": "efd8f14a-45bb-49ee-ad84-bcd5f86c46b1",
   "metadata": {},
   "outputs": [
    {
     "name": "stdout",
     "output_type": "stream",
     "text": [
      "Anzahl:  4\n",
      "[10, 20, 40, 90]\n"
     ]
    }
   ],
   "source": [
    "# In der ersten Zeile steht, wieviele Zahlen noch kommen\n",
    "\n",
    "f = open('./beispieldaten/daten1.txt')\n",
    "\n",
    "anzahl = int(f.readline())\n",
    " \n",
    "daten = []\n",
    "for i in range(anzahl):\n",
    "    daten.append(int(f.readline()))\n",
    "    \n",
    "f.close()\n",
    "\n",
    "print(\"Anzahl: \",anzahl)\n",
    "print(daten)\n",
    " "
   ]
  },
  {
   "cell_type": "markdown",
   "id": "6fe895f0-5c25-4472-8074-c5c9f7249a2d",
   "metadata": {},
   "source": [
    "#### Mehrere Informationen in einer Zeile"
   ]
  },
  {
   "cell_type": "code",
   "execution_count": 44,
   "id": "801ffa62-08f2-4685-9287-765aa12b8470",
   "metadata": {},
   "outputs": [
    {
     "name": "stdout",
     "output_type": "stream",
     "text": [
      "3 5\n",
      "rot\n",
      "gruen\n",
      "gelb\n",
      "10\n",
      "20\n",
      "15\n",
      "8 \n",
      "9"
     ]
    }
   ],
   "source": [
    "# In der ersten Zeile stehen 2 Zahlen: die Anzahl der Farben und die Anzahl der Zahlen\n",
    "\n",
    "f = open('./beispieldaten/daten2.txt')\n",
    "for zeile in f.readlines():\n",
    "    print(zeile,end='')       # Zeilenvorschub ist schon in den Daten \n",
    "f.close()"
   ]
  },
  {
   "cell_type": "code",
   "execution_count": 45,
   "id": "bd78f918-3a0d-4276-ae09-6c6de51f813d",
   "metadata": {},
   "outputs": [
    {
     "name": "stdout",
     "output_type": "stream",
     "text": [
      "Anzahl Farben:  3\n",
      "Anzahl Zahlen:  5\n",
      "['rot', 'gruen', 'gelb']\n",
      "[10, 20, 15, 8, 9]\n"
     ]
    }
   ],
   "source": [
    "f = open('./beispieldaten/daten2.txt')\n",
    "anzFarben, anzZahlen = [int(x) for x in f.readline().split()]\n",
    "\n",
    "farben = []\n",
    "zahlen = []\n",
    "for i in range(anzFarben):\n",
    "    farben.append(f.readline()[:-1])    # ohne den Zeilenvorschub\n",
    "    \n",
    "\n",
    "for i in range(anzZahlen):\n",
    "    zahlen.append(int(f.readline()))\n",
    "    \n",
    "f.close()\n",
    "print(\"Anzahl Farben: \",anzFarben)\n",
    "print(\"Anzahl Zahlen: \",anzZahlen)\n",
    "print(farben)\n",
    "print(zahlen)\n",
    " "
   ]
  },
  {
   "cell_type": "markdown",
   "id": "ea99125b-2707-4488-a10e-12f3df947036",
   "metadata": {},
   "source": [
    "#### Koordinaten einlesen"
   ]
  },
  {
   "cell_type": "code",
   "execution_count": 60,
   "id": "3f9571f6-3007-4701-9912-dc6fea678488",
   "metadata": {
    "tags": []
   },
   "outputs": [
    {
     "name": "stdout",
     "output_type": "stream",
     "text": [
      "4\n",
      "4 5\n",
      "3 8\n",
      "1 2\n",
      "3 -2"
     ]
    }
   ],
   "source": [
    "# In der ersten Zeile steht die Anzahl der einzulesenden Koordinaten\n",
    "\n",
    "f = open('./beispieldaten/daten3.txt')\n",
    "for zeile in f.readlines():\n",
    "    print(zeile,end='')       # Zeilenvorschub ist schon in den Daten \n",
    "f.close()"
   ]
  },
  {
   "cell_type": "code",
   "execution_count": 67,
   "id": "3514ec9f-e129-4106-97a6-946e7a63a3cb",
   "metadata": {},
   "outputs": [
    {
     "name": "stdout",
     "output_type": "stream",
     "text": [
      "Anzahl Koordinaten: 4\n",
      "[[4, 5], [3, 8], [1, 2], [3, -2]]\n"
     ]
    }
   ],
   "source": [
    "f = open('./beispieldaten/daten3.txt')\n",
    "anzahl = int(f.readline())\n",
    "daten = []\n",
    "\n",
    "for i in range(anzahl):\n",
    "    daten.append([int(x) for x in f.readline().split()])\n",
    "f.close()\n",
    "\n",
    "print(\"Anzahl Koordinaten:\", anzahl)\n",
    "print(daten)"
   ]
  },
  {
   "cell_type": "markdown",
   "id": "77e3bb55-7a9c-454d-be15-aa644a18ab93",
   "metadata": {},
   "source": [
    "#### Eine Matrix mit Zahlen"
   ]
  },
  {
   "cell_type": "code",
   "execution_count": 62,
   "id": "20a980bd-0bdb-4037-ac77-5f5f579ef99b",
   "metadata": {},
   "outputs": [
    {
     "name": "stdout",
     "output_type": "stream",
     "text": [
      "3 5\n",
      "1 0 1 3 1\n",
      "0 0 1 1 2\n",
      "2 1 1 2 1"
     ]
    }
   ],
   "source": [
    "# In der ersten Zeile stehen die Anzahl der Zeilen und die Anzahl der Spalten \n",
    "\n",
    "f = open('./beispieldaten/daten4.txt')\n",
    "for zeile in f.readlines():\n",
    "    print(zeile,end='')       # Zeilenvorschub ist schon in den Daten \n",
    "f.close()"
   ]
  },
  {
   "cell_type": "code",
   "execution_count": 63,
   "id": "00b82866-f5f4-49b5-9b1d-e82db23c7623",
   "metadata": {},
   "outputs": [
    {
     "name": "stdout",
     "output_type": "stream",
     "text": [
      "Anzahl Zeilen: 3\n",
      "Anzahl Spalten 5\n",
      "[[1, 0, 1, 3, 1], [0, 0, 1, 1, 2], [2, 1, 1, 2, 1]]\n"
     ]
    }
   ],
   "source": [
    "f = open('./beispieldaten/daten4.txt')\n",
    "rows, cols = [int(x) for x in f.readline().split()]\n",
    "\n",
    "grid = []\n",
    "for i in range(rows):\n",
    "    grid.append([int(x) for x in f.readline().split()])\n",
    "f.close()\n",
    "\n",
    "print(\"Anzahl Zeilen:\", rows)\n",
    "print(\"Anzahl Spalten\", cols)\n",
    "print(grid)"
   ]
  },
  {
   "cell_type": "code",
   "execution_count": 64,
   "id": "6a03d790-2bce-42c3-8526-4589497f89f1",
   "metadata": {},
   "outputs": [
    {
     "data": {
      "text/plain": [
       "3"
      ]
     },
     "execution_count": 64,
     "metadata": {},
     "output_type": "execute_result"
    }
   ],
   "source": [
    "# Das Element in der 1.Zeile und 4. Spalte\n",
    "grid[0][3]"
   ]
  },
  {
   "cell_type": "code",
   "execution_count": 65,
   "id": "8fb94b3d-6d0a-40f9-adc6-7c2c24e0c965",
   "metadata": {},
   "outputs": [
    {
     "name": "stdout",
     "output_type": "stream",
     "text": [
      "1\n",
      "0\n",
      "1\n",
      "3\n",
      "1\n"
     ]
    }
   ],
   "source": [
    "# Die Elemente in der 1.Zeile (=Index 0) durchlaufen:  \n",
    "for x in grid[0]:\n",
    "    print(x)"
   ]
  },
  {
   "cell_type": "code",
   "execution_count": 66,
   "id": "0bed771f-513c-4001-ac42-456615b4677d",
   "metadata": {},
   "outputs": [
    {
     "name": "stdout",
     "output_type": "stream",
     "text": [
      "3\n",
      "1\n",
      "2\n"
     ]
    }
   ],
   "source": [
    "# Die Elemente in der 4.Spalte (=Index 3) durchlaufen:  \n",
    "for k in range(len(grid)):\n",
    "    print(grid[k][3])\n"
   ]
  },
  {
   "cell_type": "markdown",
   "id": "d7ee1a91-d4f5-4762-8d0a-0569b4ee0bdb",
   "metadata": {},
   "source": [
    "## Aufgaben\n",
    "\n",
    "**A1:** In dem Ordner *beispieldaten* gibt es die Datei *landkreis1.txt*. Gib den Inhalt dieser Datei aus.\n",
    "\n",
    "Erwartete Ausgabe:\n",
    "\n",
    "```\n",
    "12 3\n",
    "-82 -315\n",
    "248 714\n",
    "1202 907\n",
    "226 680\n",
    "694 -20\n",
    "-767 44\n",
    "-245 719\n",
    "-339 36\n",
    "473 406\n",
    "863 -290\n",
    "953 885\n",
    "-109 510\n",
    "1242 -593\n",
    "-1223 -1479\n",
    "1720 401\n",
    "\n",
    "```\n",
    "\n",
    "\n"
   ]
  },
  {
   "cell_type": "code",
   "execution_count": 70,
   "id": "d1c44498-95e7-4684-8bc8-c4d459781e91",
   "metadata": {},
   "outputs": [],
   "source": [
    "# hier dein code"
   ]
  },
  {
   "cell_type": "markdown",
   "id": "a56f645a-aee1-4ac2-a91a-8bffcab79d31",
   "metadata": {},
   "source": [
    "**A2:** Speichere die beiden Werte in der ersten Zeile in den Variablen *anz_haus* und *anz_mast*.\n",
    "Speichere die Koordinaten der Häuser in eine Liste *haeuser*, die Koordinaten der Masten in einer Liste *masten*\n"
   ]
  },
  {
   "cell_type": "code",
   "execution_count": 80,
   "id": "90124f21-c8c0-4c44-a263-175413ac23a5",
   "metadata": {},
   "outputs": [],
   "source": [
    "f = open('./beispieldaten/landkreis1.txt')\n",
    "anz_haus, anz_mast = [int(x) for x in f.readline().split()]\n",
    "\n",
    "haeuser = []\n",
    "masten = []\n",
    "for i in range(anz_haus):\n",
    "    haeuser.append([int(x) for x in f.readline().split()])\n",
    "\n",
    "for i in range(anz_mast):\n",
    "    masten.append([int(x) for x in f.readline().split()])\n",
    "    \n",
    "f.close()"
   ]
  },
  {
   "cell_type": "code",
   "execution_count": 89,
   "id": "560d8a36-caad-4380-80c6-b34a6bbd989d",
   "metadata": {},
   "outputs": [],
   "source": [
    "# dein code hier"
   ]
  },
  {
   "cell_type": "code",
   "execution_count": null,
   "id": "05865682-b17f-42a7-8659-de2f24f84e4b",
   "metadata": {},
   "outputs": [],
   "source": [
    "# Kontrolle\n",
    "print(\"Anzahl Häuser: \",anz_haus)      \n",
    "print(\"Anzahl Masten: \",anz_mast)   \n",
    "print(haeuser)\n",
    "print(masten)"
   ]
  },
  {
   "cell_type": "markdown",
   "id": "8cb7907a-6041-4eef-942a-5a2e3ceb8cd8",
   "metadata": {},
   "source": [
    "Erwartete Ausgabe:\n",
    "``` \n",
    "Anzahl Häuser:  12\n",
    "Anzahl Masten:  3\n",
    "[[-82, -315], [248, 714], [1202, 907], [226, 680], [694, -20], [-767, 44], [-245, 719], [-339, 36], [473, 406], [863, -290], [953, 885], [-109, 510]]\n",
    "[[1242, -593], [-1223, -1479], [1720, 401]]\n",
    "```"
   ]
  },
  {
   "cell_type": "markdown",
   "id": "4efaaed2-a317-4e97-b12c-1ee5ca340c0e",
   "metadata": {},
   "source": [
    "**A3:** Schreibe eine Funktion *abstand*, die den Abstand zwischen zwei Koordinaten berechnet.\n"
   ]
  },
  {
   "cell_type": "code",
   "execution_count": 97,
   "id": "e39da699-337c-4b52-af3b-319bc526cb54",
   "metadata": {},
   "outputs": [],
   "source": [
    "import math\n",
    "def abstand(c1, c2):\n",
    "    return math.sqrt((c1[0]-c2[0])**2 + (c1[1]-c2[1])**2)"
   ]
  },
  {
   "cell_type": "code",
   "execution_count": 98,
   "id": "05a653eb-65b8-4b66-bc18-f3ef567b5848",
   "metadata": {},
   "outputs": [],
   "source": [
    "# hier dein code"
   ]
  },
  {
   "cell_type": "code",
   "execution_count": 99,
   "id": "7674a91f-473f-42c6-932d-71b24f41d151",
   "metadata": {},
   "outputs": [
    {
     "name": "stdout",
     "output_type": "stream",
     "text": [
      "1.4142135623730951\n",
      "1352.8710211989908\n"
     ]
    }
   ],
   "source": [
    "# Kontrolle\n",
    "print(abstand([0,0],[1,1]))\n",
    "print(abstand(haeuser[0],masten[0]))"
   ]
  },
  {
   "cell_type": "markdown",
   "id": "87c00530-a193-4197-b187-ea22cba89f3a",
   "metadata": {},
   "source": [
    "Erwartete Ausgabe:\n",
    "```\n",
    "1.4142135623730951\n",
    "1352.8710211989908\n",
    "\n",
    "```\n",
    "\n",
    "\n"
   ]
  },
  {
   "cell_type": "markdown",
   "id": "f2cb8351-4dd1-42ea-be5b-f406c4dc755a",
   "metadata": {},
   "source": [
    "**A4:** Erstelle eine Liste *abstand0* mit den Abständen aller Masten zu *haueser[0]*"
   ]
  },
  {
   "cell_type": "code",
   "execution_count": 101,
   "id": "9bafd217-f2cf-46a4-8c5e-d2328025c804",
   "metadata": {},
   "outputs": [],
   "source": [
    "abstand0 = [abstand(x,haeuser[0]) for x in masten]"
   ]
  },
  {
   "cell_type": "code",
   "execution_count": null,
   "id": "b8b7a5c0-7372-46ba-8bae-d5e54a72a379",
   "metadata": {},
   "outputs": [],
   "source": [
    "# dein code hier"
   ]
  },
  {
   "cell_type": "code",
   "execution_count": null,
   "id": "4dbc0c29-73af-48e0-a3df-4589b174c37f",
   "metadata": {},
   "outputs": [],
   "source": [
    "# Kontrolle\n",
    "print(abstand0)"
   ]
  },
  {
   "cell_type": "markdown",
   "id": "c06cb76e-1e34-4f26-bad6-e9ced978cfe1",
   "metadata": {},
   "source": [
    "Erwartete Ausgabe:\n",
    "```\n",
    "[1352.8710211989908, 1629.9622695019661, 1939.0358428868715]\n",
    "\n",
    "```"
   ]
  },
  {
   "cell_type": "markdown",
   "id": "ad225123-dc65-423a-bb1b-5105a6a0aeb4",
   "metadata": {},
   "source": [
    "**A5:** Nutze die Funktion *min*, um das Minimum der Werte aus *abstand0* auszugeben"
   ]
  },
  {
   "cell_type": "code",
   "execution_count": null,
   "id": "a0cc8766-31f2-44c1-b24f-4e76623236be",
   "metadata": {},
   "outputs": [],
   "source": [
    "# dein code hier"
   ]
  },
  {
   "cell_type": "markdown",
   "id": "5c9af7fe-0bc6-436b-a213-3d2cc7cef2cd",
   "metadata": {},
   "source": [
    "Erwartete Ausgabe:\n",
    "```\n",
    "1352.8710211989908\n",
    "```"
   ]
  }
 ],
 "metadata": {
  "kernelspec": {
   "display_name": "Python 3",
   "language": "python",
   "name": "python3"
  },
  "language_info": {
   "codemirror_mode": {
    "name": "ipython",
    "version": 3
   },
   "file_extension": ".py",
   "mimetype": "text/x-python",
   "name": "python",
   "nbconvert_exporter": "python",
   "pygments_lexer": "ipython3",
   "version": "3.8.8"
  }
 },
 "nbformat": 4,
 "nbformat_minor": 5
}
