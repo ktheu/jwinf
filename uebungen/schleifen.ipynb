{
 "cells": [
  {
   "cell_type": "markdown",
   "id": "aff69cab-3493-4a98-929a-f24c24f2d524",
   "metadata": {},
   "source": [
    "## Schleifen\n",
    "\n",
    "#### for-Schleife"
   ]
  },
  {
   "cell_type": "code",
   "execution_count": 1,
   "id": "0610bbe0-38c0-4fe0-958a-b096bab33881",
   "metadata": {},
   "outputs": [
    {
     "name": "stdout",
     "output_type": "stream",
     "text": [
      "0 1 2 3 4 5 6 7 8 9 "
     ]
    }
   ],
   "source": [
    "for i in range(10):\n",
    "    print(i,end=' ')"
   ]
  },
  {
   "cell_type": "code",
   "execution_count": 2,
   "id": "652f7334-dbb0-43e1-9621-75e3ee90e8e1",
   "metadata": {},
   "outputs": [
    {
     "name": "stdout",
     "output_type": "stream",
     "text": [
      "2 4 6 8 "
     ]
    }
   ],
   "source": [
    "for i in range(2,10,2):\n",
    "    print(i,end=' ')"
   ]
  },
  {
   "cell_type": "code",
   "execution_count": 3,
   "id": "c280a790-3c6d-41e5-9f5a-ed7912a99beb",
   "metadata": {},
   "outputs": [
    {
     "name": "stdout",
     "output_type": "stream",
     "text": [
      "10 7 4 1 "
     ]
    }
   ],
   "source": [
    "for i in range(10,-1,-3):\n",
    "    print(i,end=' ')"
   ]
  },
  {
   "cell_type": "markdown",
   "id": "2eddbd20-beef-486d-872b-682f6a81b122",
   "metadata": {},
   "source": [
    "#### Eine Liste mit range erzeugen"
   ]
  },
  {
   "cell_type": "code",
   "execution_count": 4,
   "id": "dddc6568-92fb-4fab-9e37-8eb5cc9835b7",
   "metadata": {},
   "outputs": [
    {
     "data": {
      "text/plain": [
       "[0, 1, 2, 3, 4, 5, 6, 7, 8, 9]"
      ]
     },
     "execution_count": 4,
     "metadata": {},
     "output_type": "execute_result"
    }
   ],
   "source": [
    "list(range(10))"
   ]
  },
  {
   "cell_type": "code",
   "execution_count": 5,
   "id": "d141a271-5702-4f71-b966-602d6461b939",
   "metadata": {},
   "outputs": [
    {
     "data": {
      "text/plain": [
       "[2, 4, 6, 8]"
      ]
     },
     "execution_count": 5,
     "metadata": {},
     "output_type": "execute_result"
    }
   ],
   "source": [
    "list(range(2,10,2))"
   ]
  },
  {
   "cell_type": "code",
   "execution_count": 6,
   "id": "ae59d4f0-07b3-4585-90af-762c8751e86b",
   "metadata": {},
   "outputs": [
    {
     "data": {
      "text/plain": [
       "[10, 7, 4, 1]"
      ]
     },
     "execution_count": 6,
     "metadata": {},
     "output_type": "execute_result"
    }
   ],
   "source": [
    "list(range(10,-1,-3))"
   ]
  },
  {
   "cell_type": "markdown",
   "id": "240d52d4-b7a6-4b11-9936-76575abb545d",
   "metadata": {},
   "source": [
    "#### List-Comprehensions"
   ]
  },
  {
   "cell_type": "code",
   "execution_count": 8,
   "id": "1e3510b5-e961-420b-b644-f0bba1d9c584",
   "metadata": {},
   "outputs": [
    {
     "data": {
      "text/plain": [
       "[0, 1, 4, 9, 16, 25, 36, 49, 64, 81]"
      ]
     },
     "execution_count": 8,
     "metadata": {},
     "output_type": "execute_result"
    }
   ],
   "source": [
    "a = [x**2 for x in range(10)]\n",
    "a"
   ]
  },
  {
   "cell_type": "code",
   "execution_count": 10,
   "id": "b60b1a04-e1fa-49ea-8f17-3246293c2684",
   "metadata": {},
   "outputs": [
    {
     "data": {
      "text/plain": [
       "[4, 6, 8, 10]"
      ]
     },
     "execution_count": 10,
     "metadata": {},
     "output_type": "execute_result"
    }
   ],
   "source": [
    "a = [x+2 for x in range(2,10,2)]\n",
    "a"
   ]
  },
  {
   "cell_type": "code",
   "execution_count": 12,
   "id": "5505e7de-d344-4a6e-be5c-835e5c07c38e",
   "metadata": {},
   "outputs": [
    {
     "data": {
      "text/plain": [
       "[90, 93, 96, 99]"
      ]
     },
     "execution_count": 12,
     "metadata": {},
     "output_type": "execute_result"
    }
   ],
   "source": [
    "a = [100-x for x in range(10,-1,-3)]\n",
    "a"
   ]
  },
  {
   "cell_type": "code",
   "execution_count": 18,
   "id": "a3ed1bc2-b309-496b-86df-b4e7ff3ddcdb",
   "metadata": {},
   "outputs": [
    {
     "data": {
      "text/plain": [
       "[0, 4, 16, 36, 64, 100, 144, 196, 256, 324]"
      ]
     },
     "execution_count": 18,
     "metadata": {},
     "output_type": "execute_result"
    }
   ],
   "source": [
    "a = [x**2 for x in range(20) if x % 2 == 0]\n",
    "a"
   ]
  },
  {
   "cell_type": "code",
   "execution_count": 20,
   "id": "7a957aae-b25e-429d-b623-5c6d925bf0b4",
   "metadata": {},
   "outputs": [
    {
     "data": {
      "text/plain": [
       "[0.0, 0.4, 1.6, 3.6, 6.4, 10.0, 14.4, 19.6, 25.6, 32.4]"
      ]
     },
     "execution_count": 20,
     "metadata": {},
     "output_type": "execute_result"
    }
   ],
   "source": [
    "b = [x/len(a) for x in a]\n",
    "b"
   ]
  },
  {
   "cell_type": "markdown",
   "id": "94f34584-27c6-47f6-870a-4e8ea1330bad",
   "metadata": {},
   "source": [
    "## Aufgaben\n",
    "\n",
    "**A1:** Die Liste *a* enthält alle natürlichen Zahlen von 10 bei einschließlich 30. Nutze *range*."
   ]
  },
  {
   "cell_type": "code",
   "execution_count": 25,
   "id": "e4e5922f-0718-47d9-aa76-ff58ee3cecfa",
   "metadata": {},
   "outputs": [],
   "source": [
    "# dein code hier\n"
   ]
  },
  {
   "cell_type": "code",
   "execution_count": null,
   "id": "3b267f87-a32a-4b1e-a25b-f4d52f6745d3",
   "metadata": {},
   "outputs": [],
   "source": [
    "# Kontrolle\n",
    "print(a)"
   ]
  },
  {
   "cell_type": "markdown",
   "id": "cbac2f4e-950e-45da-a957-cbb7c95590a8",
   "metadata": {},
   "source": [
    "Erwartete Ausgabe:\n",
    "``` \n",
    "[10, 11, 12, 13, 14, 15, 16, 17, 18, 19, 20, 21, 22, 23, 24, 25, 26, 27, 28, 29, 30]\n",
    "\n",
    "```\n"
   ]
  },
  {
   "cell_type": "markdown",
   "id": "2f7566da-758e-4c6d-bdbc-0553b9351943",
   "metadata": {},
   "source": [
    "**A2:** Die Liste *b* enthält die Quadratzahlen aller geraden Zahlen aus Liste a"
   ]
  },
  {
   "cell_type": "code",
   "execution_count": 29,
   "id": "ea93fefc-eb79-426a-9f35-abe4a7623325",
   "metadata": {},
   "outputs": [
    {
     "data": {
      "text/plain": [
       "[100, 144, 196, 256, 324, 400, 484, 576, 676, 784, 900]"
      ]
     },
     "execution_count": 29,
     "metadata": {},
     "output_type": "execute_result"
    }
   ],
   "source": [
    "b = [x**2 for x in a if x % 2 == 0]\n",
    "b"
   ]
  },
  {
   "cell_type": "code",
   "execution_count": null,
   "id": "9367ca3b-1699-451b-a989-0b1241ac7b2b",
   "metadata": {},
   "outputs": [],
   "source": [
    "print(b)"
   ]
  },
  {
   "cell_type": "markdown",
   "id": "253b77d6-1d6c-4f28-b42d-6068a4754910",
   "metadata": {},
   "source": [
    "Erwartete Ausgaben:\n",
    "```\n",
    "[100, 144, 196, 256, 324, 400, 484, 576, 676, 784, 900]\n",
    "```"
   ]
  },
  {
   "cell_type": "code",
   "execution_count": null,
   "id": "4250ce32-3e28-4587-8c71-7f924d5cc458",
   "metadata": {},
   "outputs": [],
   "source": []
  }
 ],
 "metadata": {
  "kernelspec": {
   "display_name": "Python 3",
   "language": "python",
   "name": "python3"
  },
  "language_info": {
   "codemirror_mode": {
    "name": "ipython",
    "version": 3
   },
   "file_extension": ".py",
   "mimetype": "text/x-python",
   "name": "python",
   "nbconvert_exporter": "python",
   "pygments_lexer": "ipython3",
   "version": "3.8.8"
  }
 },
 "nbformat": 4,
 "nbformat_minor": 5
}
