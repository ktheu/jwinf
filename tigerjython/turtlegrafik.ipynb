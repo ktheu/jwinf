{
 "cells": [
  {
   "cell_type": "markdown",
   "id": "e8d9a258-6e0e-4ead-bf97-0bb328a8ad0a",
   "metadata": {},
   "source": [
    "### Kapitel 1 - Turtle Bewegen\n",
    "\n",
    "https://www.python-online.ch/turtle.php?inhalt_links=turtle/navigation.inc.php&inhalt_mitte=turtle/bewegen.inc.php"
   ]
  },
  {
   "cell_type": "code",
   "execution_count": null,
   "id": "b8b1a23a-bad2-425f-958b-d5a455817396",
   "metadata": {},
   "outputs": [],
   "source": [
    "# A1\n",
    "from gturtle import *\n",
    "makeTurtle()\n",
    "right(30)\n",
    "for i in range(3):\n",
    "    fd(100)\n",
    "    right(120)"
   ]
  },
  {
   "cell_type": "code",
   "execution_count": null,
   "id": "a0094cd2-96c2-41e7-be3f-7104d10d8710",
   "metadata": {},
   "outputs": [],
   "source": [
    "# A2\n",
    "from gturtle import *\n",
    "makeTurtle()\n",
    "fd(100)\n",
    "back(100)\n",
    "right(60)\n",
    "back(100)\n",
    "fd(100)\n",
    "left(120)\n",
    "back(100)\n",
    "fd(100)\n",
    "right(60)"
   ]
  },
  {
   "cell_type": "code",
   "execution_count": null,
   "id": "7a746cc1-e93d-43ee-873c-c7bb727e65a8",
   "metadata": {},
   "outputs": [],
   "source": [
    "# A3\n",
    "from gturtle import *\n",
    "makeTurtle()\n",
    "dot(20)\n",
    "right(45)\n",
    "fd(100)\n",
    "dot(20)\n",
    "right(90)\n",
    "fd(100)\n",
    "dot(20)\n",
    "left(90)\n",
    "fd(100)\n",
    "dot(20)\n",
    "right(90)\n",
    "fd(100)\n",
    "dot(20)"
   ]
  },
  {
   "cell_type": "code",
   "execution_count": null,
   "id": "785d4a25-01b4-4705-b1d3-4ac2a699faa9",
   "metadata": {},
   "outputs": [],
   "source": [
    "# A4\n",
    "from gturtle import *\n",
    "makeTurtle()\n",
    "rt(90)\n",
    "fd(100)\n",
    "rt(90)\n",
    "fd(50)\n",
    "lt(90)\n",
    "fd(100)\n",
    "lt(90)\n",
    "fd(50)\n",
    "rt(90)\n",
    "fd(100)"
   ]
  },
  {
   "cell_type": "markdown",
   "id": "59d465e2-371f-44cc-989c-2f084ca9b0a7",
   "metadata": {},
   "source": [
    "#### 2 Farben verwenden"
   ]
  },
  {
   "cell_type": "code",
   "execution_count": null,
   "id": "29a5e0c5-7a10-4782-a830-ce3059bfbd54",
   "metadata": {},
   "outputs": [],
   "source": [
    "from gturtle import *\n",
    "makeTurtle()\n",
    "setPenWidth(5)\n",
    "setPenColor(\"red\")\n",
    "forward(80)\n",
    "right(60)"
   ]
  },
  {
   "cell_type": "code",
   "execution_count": null,
   "id": "c89e5c31-eaca-4093-b340-f72a5d34e5e0",
   "metadata": {},
   "outputs": [],
   "source": [
    "# A1\n",
    "from gturtle import *\n",
    "makeTurtle()\n",
    "setPenWidth(5)\n",
    "setPenColor(\"red\")\n",
    "forward(80)\n",
    "right(60)\n",
    "setPenColor(\"forest green\")\n",
    "forward(80)\n",
    "right(60)\n",
    "setPenColor(\"gold\")\n",
    "forward(80)\n",
    "right(60)\n",
    "setPenColor(\"pale violet red\")\n",
    "forward(80)\n",
    "right(60)\n",
    "setPenColor(\"yellow\")\n",
    "forward(80)\n",
    "right(60)\n",
    "setPenColor(\"blue\")\n",
    "forward(80)\n",
    "right(60)\n",
    "hideTurtle()"
   ]
  },
  {
   "cell_type": "code",
   "execution_count": null,
   "id": "2e7b3e4a-3ded-49f7-8f7d-0bd3057d3b64",
   "metadata": {},
   "outputs": [],
   "source": [
    "# A2\n",
    "from gturtle import *\n",
    "makeTurtle()\n",
    "hideTurtle()\n",
    "setPenColor(\"red\")\n",
    "dot(50)\n",
    "rt(90)\n",
    "fd(50)\n",
    "setPenColor(\"yellow\")\n",
    "dot(50)\n",
    "fd(50)\n",
    "setPenColor(\"blue\")\n",
    "dot(50)\n",
    "fd(50)\n",
    "setPenColor(\"magenta\")\n",
    "dot(50)"
   ]
  },
  {
   "cell_type": "code",
   "execution_count": null,
   "id": "00c51a30-9038-43de-97c9-f0cd6e32fb3d",
   "metadata": {},
   "outputs": [],
   "source": [
    "# A3\n",
    "from gturtle import *\n",
    "makeTurtle()\n",
    "hideTurtle()\n",
    "setPenColor(\"black\")\n",
    "setPenWidth(80)\n",
    "fd(130)\n",
    "setPenColor('red')\n",
    "dot(50)\n",
    "penUp()\n",
    "back(60)\n",
    "setPenColor('yellow')\n",
    "dot(50)\n",
    "back(60)\n",
    "setPenColor('green')\n",
    "dot(50)"
   ]
  }
 ],
 "metadata": {
  "kernelspec": {
   "display_name": "Python 3 (ipykernel)",
   "language": "python",
   "name": "python3"
  },
  "language_info": {
   "codemirror_mode": {
    "name": "ipython",
    "version": 3
   },
   "file_extension": ".py",
   "mimetype": "text/x-python",
   "name": "python",
   "nbconvert_exporter": "python",
   "pygments_lexer": "ipython3",
   "version": "3.11.2"
  }
 },
 "nbformat": 4,
 "nbformat_minor": 5
}
