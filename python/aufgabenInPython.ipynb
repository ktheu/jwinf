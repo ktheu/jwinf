{
 "cells": [
  {
   "cell_type": "markdown",
   "id": "d0f96588-cecf-45b3-a2c2-c34bb16683de",
   "metadata": {},
   "source": [
    "### Übersetzung einiger Aufgaben in Python"
   ]
  },
  {
   "cell_type": "markdown",
   "id": "4c612fbc-cb2f-4f47-b828-1a22d6068cbb",
   "metadata": {},
   "source": [
    "#### Hochhaus ***\n",
    "\n",
    "<img src='Hochhaus3S.png' width='500'>"
   ]
  },
  {
   "cell_type": "code",
   "execution_count": 8,
   "id": "50988ca4-5349-4d47-9272-4b3e3b0ff067",
   "metadata": {},
   "outputs": [],
   "source": [
    "# Es soll eine Liste b konstruiert werden, die angibt, ob das entsprechende Feld gefärbt werden soll\n",
    "# [1, 1, 0, 1, 1, 0, 1, 1, 1, 0, 1]\n",
    "a = [1,3,2,4,6,5,7,8,10,9,11]"
   ]
  },
  {
   "cell_type": "code",
   "execution_count": 9,
   "id": "4818da3b-375e-4640-a000-289aba87844b",
   "metadata": {},
   "outputs": [],
   "source": [
    "max_ = 0\n",
    "b = []\n",
    "for i in range(len(a)):\n",
    "    if a[i] > max_:\n",
    "        b.append(1)\n",
    "        max_ = a[i]\n",
    "    else:\n",
    "        b.append(0)"
   ]
  },
  {
   "cell_type": "markdown",
   "id": "5a9148b8-d5d8-490a-8e06-080b2f306786",
   "metadata": {},
   "source": [
    "#### Hochhaus ****"
   ]
  },
  {
   "cell_type": "markdown",
   "id": "93814333-9417-4eac-ba94-bfb547fb1f4f",
   "metadata": {},
   "source": [
    "<img src='Hochhaus4S.png' width='500'>"
   ]
  },
  {
   "cell_type": "code",
   "execution_count": 49,
   "id": "db985114-9b2e-458e-a687-e9f7618af2e3",
   "metadata": {},
   "outputs": [],
   "source": [
    "a = [1,3,2,4,6,5,7,8,10,9,11]    # erwartet: [1, 0, 0, 1, 0, 0, 1, 1, 0, 0, 1]\n",
    "a = [3,2,1,4,7,6,5,8,11,10,9]    # erwartet: [0, 0, 0, 1, 0, 0, 0, 1, 0, 0, 0]\n"
   ]
  },
  {
   "cell_type": "code",
   "execution_count": 50,
   "id": "b205d92a-f0d6-4a9c-9a82-464ae9f05545",
   "metadata": {},
   "outputs": [
    {
     "name": "stdout",
     "output_type": "stream",
     "text": [
      "[0, 0, 0, 1, 0, 0, 0, 1, 0, 0, 0]\n"
     ]
    }
   ],
   "source": [
    "b = [a[0]]*len(a)      # b[i] ist das max von anfang bis einschließlich i\n",
    "c = [a[-1]]*len(a)     # d[i] ist das min vom ende bis einschließlich i\n",
    "\n",
    " \n",
    "for i in range(1,len(a)):\n",
    "    if a[i] > b[i-1]:\n",
    "        b[i] = a[i]\n",
    "    else:\n",
    "        b[i] = b[i-1]\n",
    "\n",
    "\n",
    "for i in range(len(a)-2,-1,-1):\n",
    "    if a[i] < c[i+1]:\n",
    "        c[i] = a[i]\n",
    "    else:\n",
    "        c[i] = c[i+1]\n",
    "\n",
    "d = [0]*len(a)\n",
    "\n",
    "for i in range(len(a)):\n",
    "    if b[i] <= a[i] <= c[i]:\n",
    "        d[i]=1\n",
    "      \n",
    "print(d)\n"
   ]
  },
  {
   "cell_type": "code",
   "execution_count": null,
   "id": "16e5cf2a-a5a6-4c5a-b72b-cc56695242da",
   "metadata": {},
   "outputs": [],
   "source": []
  }
 ],
 "metadata": {
  "kernelspec": {
   "display_name": "Python 3 (ipykernel)",
   "language": "python",
   "name": "python3"
  },
  "language_info": {
   "codemirror_mode": {
    "name": "ipython",
    "version": 3
   },
   "file_extension": ".py",
   "mimetype": "text/x-python",
   "name": "python",
   "nbconvert_exporter": "python",
   "pygments_lexer": "ipython3",
   "version": "3.11.2"
  }
 },
 "nbformat": 4,
 "nbformat_minor": 5
}
